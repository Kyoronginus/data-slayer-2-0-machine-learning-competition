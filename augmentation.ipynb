import albumentations as A
import cv2  # OpenCV is needed for image reading/writing

def augment_and_save_from_root(root_dir, output_dir, augment_ratio=2, save_original=True):
    """
    Perform data augmentation on a dataset organized by subject/activity type.

    Args:
        root_dir (str): Root directory containing subject/activity folders.
        output_dir (str): Directory to save augmented images.
        augment_ratio (int): Number of augmented images to generate per input image.
        save_original (bool): Whether to save the original image alongside augmented ones.
    """
    clear_output_directory(output_dir)
    if not os.path.exists(output_dir):
        os.makedirs(output_dir)

    # Define augmentation pipeline
    augmentation = A.Compose([
        # A.RandomRotate90(p=0.5),
        A.HorizontalFlip(p=0.5),
        A.RandomBrightnessContrast(p=0.3),
        A.ShiftScaleRotate(shift_limit=0.05, scale_limit=0.05, rotate_limit=15, p=0.7),
        # A.OpticalDistortion(distort_limit=0.05, shift_limit=0.05, p=0.3),
        # A.RandomResizedCrop(height=640, width=640, scale=(0.8, 1.0), p=0.5),
        # A.GaussianBlur(blur_limit=3, p=0.2),
        # A.CLAHE(p=0.2),
        # A.ToGray(p=0.2),  # Convert some images to grayscale for variety
    ])

    augmented_data = []
    augmented_labels = []
    errors = []

    for subject in os.listdir(root_dir):
        subject_path = os.path.join(root_dir, subject)
        if os.path.isdir(subject_path):
            for activity_type in os.listdir(subject_path):
                label = 1 if activity_type == 'fall' else 0
                activity_path = os.path.join(subject_path, activity_type)
                for activity_class in os.listdir(activity_path):
                    class_path = os.path.join(activity_path, activity_class)
                    for file in os.listdir(class_path):
                        img_path = os.path.join(class_path, file)
                        image = cv2.imread(img_path)
                        if image is None:
                            errors.append(img_path)
                            continue

                        image = cv2.cvtColor(image, cv2.COLOR_BGR2RGB)

                        # Create output directory structure
                        output_class_dir = os.path.join(output_dir, subject, activity_type, activity_class)
                        os.makedirs(output_class_dir, exist_ok=True)

                        # Save original image if required
                        if save_original:
                            save_path = os.path.join(output_class_dir, f"{file.split('.')[0]}_original.jpg")
                            cv2.imwrite(save_path, cv2.cvtColor(image, cv2.COLOR_RGB2BGR))
                            augmented_data.append(save_path)
                            augmented_labels.append(label)

                        # Generate augmented images
                        for i in range(augment_ratio):
                            augmented = augmentation(image=image)
                            augmented_image = augmented["image"]

                            # Save augmented image
                            aug_save_path = os.path.join(output_class_dir, f"{file.split('.')[0]}_aug{i}.jpg")
                            cv2.imwrite(aug_save_path, cv2.cvtColor(augmented_image, cv2.COLOR_RGB2BGR))
                            augmented_data.append(aug_save_path)
                            augmented_labels.append(label)

    # Log errors if any
    if errors:
        print("\n--- Errors During Augmentation ---")
        for err in errors:
            print(f"Could not process image: {err}")

    print(f"\nSaved {len(augmented_data)} images to {output_dir}")
    return augmented_data, augmented_labels
