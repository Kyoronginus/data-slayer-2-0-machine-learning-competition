{
 "cells": [
  {
   "cell_type": "code",
   "execution_count": 11,
   "metadata": {},
   "outputs": [],
   "source": [
    "import os\n",
    "import shutil\n",
    "\n",
    "def clear_output_directory(output_dir):\n",
    "    \"\"\"\n",
    "    Deletes all files and subdirectories in the specified output directory.\n",
    "    \"\"\"\n",
    "    if os.path.exists(output_dir):  # Check if the directory exists\n",
    "        for filename in os.listdir(output_dir):\n",
    "            file_path = os.path.join(output_dir, filename)\n",
    "            try:\n",
    "                if os.path.isfile(file_path) or os.path.islink(file_path):\n",
    "                    os.unlink(file_path)  # Delete files and symbolic links\n",
    "                elif os.path.isdir(file_path):\n",
    "                    shutil.rmtree(file_path)  # Delete directories\n",
    "            except Exception as e:\n",
    "                print(f\"Failed to delete {file_path}: {e}\")\n",
    "    else:\n",
    "        os.makedirs(output_dir)  # Create the directory if it does not exist"
   ]
  },
  {
   "cell_type": "code",
   "execution_count": 12,
   "metadata": {},
   "outputs": [],
   "source": [
    "import albumentations as A\n",
    "import cv2  # OpenCV is needed for image reading/writing\n",
    "\n",
    "def augment_and_save_from_root(root_dir, output_dir, augment_ratio=2, save_original=True):\n",
    "    \"\"\"\n",
    "    Perform data augmentation on a dataset organized by subject/activity type.\n",
    "\n",
    "    Args:\n",
    "        root_dir (str): Root directory containing subject/activity folders.\n",
    "        output_dir (str): Directory to save augmented images.\n",
    "        augment_ratio (int): Number of augmented images to generate per input image.\n",
    "        save_original (bool): Whether to save the original image alongside augmented ones.\n",
    "    \"\"\"\n",
    "    # Clear output directory\n",
    "    clear_output_directory(output_dir)\n",
    "    os.makedirs(output_dir, exist_ok=True)\n",
    "\n",
    "    # Define augmentation pipeline\n",
    "    augmentation = A.Compose([\n",
    "        A.RandomBrightnessContrast(p=0.3),\n",
    "        A.ShiftScaleRotate(shift_limit=0.05, scale_limit=0.05, rotate_limit=7, p=0.7),\n",
    "    ])\n",
    "\n",
    "    errors = []\n",
    "    augmented_data = []\n",
    "\n",
    "    for file in os.listdir(input_dir):\n",
    "        img_path = os.path.join(input_dir, file)\n",
    "\n",
    "        # Read the image\n",
    "        image = cv2.imread(img_path)\n",
    "        if image is None:\n",
    "            errors.append(img_path)\n",
    "            continue\n",
    "\n",
    "        # Convert image to RGB for augmentation\n",
    "        image = cv2.cvtColor(image, cv2.COLOR_BGR2RGB)\n",
    "\n",
    "        # Save original image if required\n",
    "        filename_no_ext = os.path.splitext(file)[0]  # Get file name without extension\n",
    "        if save_original:\n",
    "            save_path = os.path.join(output_dir, f\"{filename_no_ext}_original.jpg\")\n",
    "            cv2.imwrite(save_path, cv2.cvtColor(image, cv2.COLOR_RGB2BGR))\n",
    "            augmented_data.append(save_path)\n",
    "\n",
    "        # Generate augmented images\n",
    "        for i in range(augment_ratio):\n",
    "            augmented = augmentation(image=image)\n",
    "            augmented_image = augmented[\"image\"]\n",
    "\n",
    "            # Save augmented image\n",
    "            aug_save_path = os.path.join(output_dir, f\"{filename_no_ext}_aug{i}.jpg\")\n",
    "            cv2.imwrite(aug_save_path, cv2.cvtColor(augmented_image, cv2.COLOR_RGB2BGR))\n",
    "            augmented_data.append(aug_save_path)\n",
    "\n",
    "    # Log errors\n",
    "    if errors:\n",
    "        print(\"\\n--- Errors During Augmentation ---\")\n",
    "        for err in errors:\n",
    "            print(f\"Could not process image: {err}\")\n",
    "\n",
    "    print(f\"\\nSaved {len(augmented_data)} images to {output_dir}\")"
   ]
  },
  {
   "cell_type": "code",
   "execution_count": 14,
   "metadata": {},
   "outputs": [
    {
     "name": "stdout",
     "output_type": "stream",
     "text": [
      "\n",
      "Saved 102 images to output\n"
     ]
    }
   ],
   "source": [
    "\n",
    "input_dir = 'nonfall_laying_1'\n",
    "output_dir = 'output'\n",
    "\n",
    "\n",
    "augment_and_save_from_root(input_dir, output_dir, augment_ratio=1, save_original=True)"
   ]
  },
  {
   "cell_type": "code",
   "execution_count": null,
   "metadata": {},
   "outputs": [],
   "source": []
  }
 ],
 "metadata": {
  "kernelspec": {
   "display_name": "base",
   "language": "python",
   "name": "python3"
  },
  "language_info": {
   "codemirror_mode": {
    "name": "ipython",
    "version": 3
   },
   "file_extension": ".py",
   "mimetype": "text/x-python",
   "name": "python",
   "nbconvert_exporter": "python",
   "pygments_lexer": "ipython3",
   "version": "3.12.4"
  }
 },
 "nbformat": 4,
 "nbformat_minor": 2
}
